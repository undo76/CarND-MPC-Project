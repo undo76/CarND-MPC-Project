{
 "cells": [
  {
   "cell_type": "markdown",
   "metadata": {},
   "source": [
    "# MPC Implementation"
   ]
  },
  {
   "cell_type": "markdown",
   "metadata": {},
   "source": [
    "The MPC has been implemented according to the guidelines of the lesson. The most important differences are the inclusion of a latency and that the waypoints are given in map coordinates.\n",
    "\n",
    "### Latency\n",
    "\n",
    "In order to deal with the latency in the actuators, I predict the state (i.e. the position and the direction) in the future and make all the calculations with this projected state. I am assuming that the acceleration of the car is equal to the value of the throttle. It shouldn't be necessarily like that, but in practice it works well. This projection is done in map coordinates, but it could also have been done in vehicule coordinates.\n",
    "\n",
    "```cpp\n",
    "// Latency correction in map coordinates.\n",
    "// Based on the current state, I project the\n",
    "// future state after latency seconds.\n",
    "const double latency = 0.1;\n",
    "v += throttle * latency;\n",
    "psi -= v * steering_angle * deg2rad(25) / Lf * latency;\n",
    "px += v * cos(psi) * latency;\n",
    "py += v * sin(psi) * latency;   \n",
    "```\n",
    "\n",
    "### Transformation from map coordinates to vehicle coordinates\n",
    "\n",
    "The waypoints and the current state is reported by the simulator in map coordinates. On the other hand, the MPC solver equations assume vehicle coordinates. Also, in order to paint the waypoints and the predicted trajectory in the simulator we need to give them in vehicle coordinates.\n",
    "\n",
    "```cpp\n",
    "Eigen::MatrixXd mapToCarCoordinates(const Eigen::MatrixXd &pts, double px,\n",
    "                                    double py, double psi) {\n",
    "  Eigen::MatrixXd transformed(2, pts.cols());\n",
    "  double c_psi = cos(psi);\n",
    "  double s_psi = sin(psi);\n",
    "  auto t_x = Eigen::MatrixXd::Constant(1, pts.cols(), -px * c_psi - py * s_psi);\n",
    "  auto t_y = Eigen::MatrixXd::Constant(1, pts.cols(), px * s_psi - py * c_psi);\n",
    "  transformed.row(0) = \n",
    "      pts.row(0) * c_psi + pts.row(1) * s_psi + t_x;\n",
    "  transformed.row(1) = \n",
    "      - pts.row(0) * s_psi + pts.row(1) * c_psi + t_y;\n",
    "  return transformed;\n",
    "}  \n",
    "```"
   ]
  },
  {
   "cell_type": "markdown",
   "metadata": {},
   "source": [
    "## MPC cost function tuning"
   ]
  },
  {
   "cell_type": "markdown",
   "metadata": {},
   "source": [
    "In order to select the parameters of the weights of the different cost components, I run several iterations and plot graphs of the actuators, to prevent sudden changes of values (See next section).\n",
    "\n",
    "Other parameter I have tuned is $N = 20$ (number of steps) and the $\\delta_t = 0.05s$\n",
    "\n",
    "Also, I have changed the maximum steering angle from 25deg to 30deg. The original value was making the vehicle to take the curves closer to the inner part, instead that in the middle of the road. \n",
    "\n",
    "```cpp\n",
    "// The part of the cost based on the reference state.\n",
    "for (int t = 0; t < N; t++) {\n",
    "  fg[0] += 2 * CppAD::pow(vars[cte_start + t], 2);\n",
    "  fg[0] += CppAD::pow(vars[epsi_start + t], 2);\n",
    "  fg[0] += 20 * CppAD::pow(vars[v_start + t] - ref_v, 2);\n",
    "}\n",
    "\n",
    "// Minimize the use of actuators.\n",
    "for (int t = 0; t < N - 1; t++) {\n",
    "  fg[0] += CppAD::pow(vars[delta_start + t], 2);\n",
    "  fg[0] += 20 * CppAD::pow(vars[a_start + t], 2);\n",
    "}\n",
    "\n",
    "// Minimize the value gap between sequential actuations.\n",
    "for (int t = 0; t < N - 2; t++) {\n",
    "  fg[0] += 30000 * CppAD::pow(vars[delta_start + t + 1] - vars[delta_start + t], 2);\n",
    "  fg[0] += 1000000 * CppAD::pow(vars[a_start + t + 1] - vars[a_start + t], 2);\n",
    "}\n",
    "\n",
    "```\n"
   ]
  },
  {
   "cell_type": "markdown",
   "metadata": {},
   "source": [
    "## Analysis of the MPC error\n",
    "\n",
    "To facilitate the selection of the parameters, I have used pandas to plot the controller error."
   ]
  },
  {
   "cell_type": "code",
   "execution_count": 11,
   "metadata": {
    "collapsed": true
   },
   "outputs": [],
   "source": [
    "%matplotlib inline\n",
    "import pandas as pd\n",
    "import numpy as np\n",
    "import matplotlib.pyplot as plt"
   ]
  },
  {
   "cell_type": "code",
   "execution_count": 12,
   "metadata": {},
   "outputs": [
    {
     "data": {
      "text/html": [
       "<div>\n",
       "<table border=\"1\" class=\"dataframe\">\n",
       "  <thead>\n",
       "    <tr style=\"text-align: right;\">\n",
       "      <th></th>\n",
       "      <th>steer</th>\n",
       "      <th>throttle</th>\n",
       "    </tr>\n",
       "  </thead>\n",
       "  <tbody>\n",
       "    <tr>\n",
       "      <th>0</th>\n",
       "      <td>-0.010433</td>\n",
       "      <td>1.0</td>\n",
       "    </tr>\n",
       "    <tr>\n",
       "      <th>1</th>\n",
       "      <td>-0.252632</td>\n",
       "      <td>1.0</td>\n",
       "    </tr>\n",
       "    <tr>\n",
       "      <th>2</th>\n",
       "      <td>-0.450040</td>\n",
       "      <td>1.0</td>\n",
       "    </tr>\n",
       "    <tr>\n",
       "      <th>3</th>\n",
       "      <td>-0.395538</td>\n",
       "      <td>1.0</td>\n",
       "    </tr>\n",
       "    <tr>\n",
       "      <th>4</th>\n",
       "      <td>-0.406861</td>\n",
       "      <td>1.0</td>\n",
       "    </tr>\n",
       "  </tbody>\n",
       "</table>\n",
       "</div>"
      ],
      "text/plain": [
       "      steer  throttle\n",
       "0 -0.010433       1.0\n",
       "1 -0.252632       1.0\n",
       "2 -0.450040       1.0\n",
       "3 -0.395538       1.0\n",
       "4 -0.406861       1.0"
      ]
     },
     "execution_count": 12,
     "metadata": {},
     "output_type": "execute_result"
    }
   ],
   "source": [
    "df = pd.read_csv('./dump.csv', header=None, names=['steer', 'throttle'])\n",
    "df.head()"
   ]
  },
  {
   "cell_type": "code",
   "execution_count": 14,
   "metadata": {},
   "outputs": [
    {
     "data": {
      "image/png": "[encoded data removed]",
      "text/plain": [
       "<matplotlib.figure.Figure at 0x10f1cc410>"
      ]
     },
     "metadata": {},
     "output_type": "display_data"
    }
   ],
   "source": [
    "_ = df[:].plot(title=\"Actuators\", figsize=(10,10))"
   ]
  },
  {
   "cell_type": "markdown",
   "metadata": {},
   "source": [
    "## Video\n",
    "\n",
    "[Video in YouTube](https://www.youtube.com/watch?v=97c6-XssRp8)"
   ]
  }
 ],
 "metadata": {
  "kernelspec": {
   "display_name": "Python 2",
   "language": "python",
   "name": "python2"
  },
  "language_info": {
   "codemirror_mode": {
    "name": "ipython",
    "version": 2
   },
   "file_extension": ".py",
   "mimetype": "text/x-python",
   "name": "python",
   "nbconvert_exporter": "python",
   "pygments_lexer": "ipython2",
   "version": "2.7.11"
  }
 },
 "nbformat": 4,
 "nbformat_minor": 2
}
